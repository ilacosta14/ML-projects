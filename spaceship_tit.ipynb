{
 "cells": [
  {
   "cell_type": "markdown",
   "id": "f7a839f4",
   "metadata": {},
   "source": [
    "# Titanic spaceship-classification challenge from kaggle"
   ]
  },
  {
   "cell_type": "markdown",
   "id": "828e3b9f",
   "metadata": {},
   "source": [
    "The Spaceship Titanic was an interstellar passenger liner launched a month ago. With almost 13,000 passengers on board, the vessel set out on its maiden voyage transporting emigrants from our solar system to three newly habitable exoplanets orbiting nearby stars.\n",
    "\n",
    "While rounding Alpha Centauri en route to its first destination—the torrid 55 Cancri E—the unwary Spaceship Titanic collided with a spacetime anomaly hidden within a dust cloud. Sadly, it met a similar fate as its namesake from 1000 years before. Though the ship stayed intact, almost half of the passengers were transported to an alternate dimension!"
   ]
  },
  {
   "cell_type": "markdown",
   "id": "24148f9b",
   "metadata": {},
   "source": [
    "I will use Random Forest model using _TensorFlow Decision Forests_. "
   ]
  },
  {
   "cell_type": "markdown",
   "id": "35497f55",
   "metadata": {},
   "source": [
    "## Importing libraries"
   ]
  },
  {
   "cell_type": "code",
   "execution_count": 1,
   "id": "11deca2e",
   "metadata": {},
   "outputs": [
    {
     "name": "stderr",
     "output_type": "stream",
     "text": [
      "2025-08-05 11:52:42.295454: E external/local_xla/xla/stream_executor/cuda/cuda_fft.cc:467] Unable to register cuFFT factory: Attempting to register factory for plugin cuFFT when one has already been registered\n",
      "WARNING: All log messages before absl::InitializeLog() is called are written to STDERR\n",
      "E0000 00:00:1754387562.314189   57705 cuda_dnn.cc:8579] Unable to register cuDNN factory: Attempting to register factory for plugin cuDNN when one has already been registered\n",
      "E0000 00:00:1754387562.319735   57705 cuda_blas.cc:1407] Unable to register cuBLAS factory: Attempting to register factory for plugin cuBLAS when one has already been registered\n",
      "W0000 00:00:1754387562.334002   57705 computation_placer.cc:177] computation placer already registered. Please check linkage and avoid linking the same target more than once.\n",
      "W0000 00:00:1754387562.334021   57705 computation_placer.cc:177] computation placer already registered. Please check linkage and avoid linking the same target more than once.\n",
      "W0000 00:00:1754387562.334023   57705 computation_placer.cc:177] computation placer already registered. Please check linkage and avoid linking the same target more than once.\n",
      "W0000 00:00:1754387562.334024   57705 computation_placer.cc:177] computation placer already registered. Please check linkage and avoid linking the same target more than once.\n",
      "2025-08-05 11:52:42.338860: I tensorflow/core/platform/cpu_feature_guard.cc:210] This TensorFlow binary is optimized to use available CPU instructions in performance-critical operations.\n",
      "To enable the following instructions: AVX2 FMA, in other operations, rebuild TensorFlow with the appropriate compiler flags.\n"
     ]
    },
    {
     "name": "stdout",
     "output_type": "stream",
     "text": [
      "TensorFlow version: 2.19.0\n"
     ]
    },
    {
     "data": {
      "text/html": [
       "\n",
       "<p style=\"margin:0px;\">🌲 Try <a href=\"https://ydf.readthedocs.io/en/latest/\" target=\"_blank\">YDF</a>, the successor of\n",
       "    <a href=\"https://www.tensorflow.org/decision_forests\" target=\"_blank\">TensorFlow\n",
       "        Decision Forests</a> using the same algorithms but with more features and faster\n",
       "    training!\n",
       "</p>\n",
       "<div style=\"display: flex; flex-wrap: wrap; margin:5px;max-width: 880px;\">\n",
       "    <div style=\"flex: 1; border-radius: 10px; background-color: F0F0F0; padding: 5px;\">\n",
       "        <p\n",
       "            style=\"font-weight: bold; margin:0px;text-align: center;border-bottom: 1px solid #C0C0C0;margin-bottom: 4px;\">\n",
       "            Old code</p>\n",
       "        <pre style=\"overflow-wrap: anywhere; overflow: auto; margin:0px;font-size: 9pt;\">\n",
       "import tensorflow_decision_forests as tfdf\n",
       "\n",
       "tf_ds = tfdf.keras.pd_dataframe_to_tf_dataset(ds, label=\"l\")\n",
       "model = tfdf.keras.RandomForestModel(label=\"l\")\n",
       "model.fit(tf_ds)\n",
       "</pre>\n",
       "    </div>\n",
       "    <div style=\"width: 5px;\"></div>\n",
       "    <div style=\"flex: 1; border-radius: 10px; background-color: F0F0F0; padding: 5px;\">\n",
       "        <p\n",
       "            style=\"font-weight: bold; margin:0px;text-align: center;border-bottom: 1px solid #C0C0C0;margin-bottom: 4px;\">\n",
       "            New code</p>\n",
       "        <pre style=\"overflow-wrap: anywhere; overflow: auto; margin:0px;font-size: 9pt;\">\n",
       "import ydf\n",
       "\n",
       "model = ydf.RandomForestLearner(label=\"l\").train(ds)\n",
       "</pre>\n",
       "    </div>\n",
       "</div>\n",
       "<p style=\"margin:0px;font-size: 9pt;\">(Learn more in the <a\n",
       "        href=\"https://ydf.readthedocs.io/en/latest/tutorial/migrating_to_ydf/\" target=\"_blank\">migration\n",
       "        guide</a>)</p>\n"
      ],
      "text/plain": [
       "<IPython.core.display.HTML object>"
      ]
     },
     "metadata": {},
     "output_type": "display_data"
    },
    {
     "name": "stdout",
     "output_type": "stream",
     "text": [
      "TensorFlow Decision Forests v1.12.0\n"
     ]
    }
   ],
   "source": [
    "import numpy as np\n",
    "import matplotlib.pyplot as plt\n",
    "import pandas as pd\n",
    "import seaborn as sb\n",
    "\n",
    "#I want to use tensorFlow\n",
    "# machine learning toolkit developed by Google\n",
    "import tensorflow as tf\n",
    "print(\"TensorFlow version:\", tf.__version__)\n",
    "import tensorflow_decision_forests as tfdf\n",
    "print(\"TensorFlow Decision Forests v\" + tfdf.__version__)\n",
    "\n",
    "# split data into a training set and a test set\n",
    "from sklearn.model_selection import train_test_split"
   ]
  },
  {
   "cell_type": "code",
   "execution_count": 2,
   "id": "9467ad6f",
   "metadata": {},
   "outputs": [
    {
     "name": "stdout",
     "output_type": "stream",
     "text": [
      "Full train dataset shape is (8693, 14)\n",
      "Full test dataset shape is (4277, 13)\n"
     ]
    },
    {
     "data": {
      "text/html": [
       "<div>\n",
       "<style scoped>\n",
       "    .dataframe tbody tr th:only-of-type {\n",
       "        vertical-align: middle;\n",
       "    }\n",
       "\n",
       "    .dataframe tbody tr th {\n",
       "        vertical-align: top;\n",
       "    }\n",
       "\n",
       "    .dataframe thead th {\n",
       "        text-align: right;\n",
       "    }\n",
       "</style>\n",
       "<table border=\"1\" class=\"dataframe\">\n",
       "  <thead>\n",
       "    <tr style=\"text-align: right;\">\n",
       "      <th></th>\n",
       "      <th>Age</th>\n",
       "      <th>RoomService</th>\n",
       "      <th>FoodCourt</th>\n",
       "      <th>ShoppingMall</th>\n",
       "      <th>Spa</th>\n",
       "      <th>VRDeck</th>\n",
       "    </tr>\n",
       "  </thead>\n",
       "  <tbody>\n",
       "    <tr>\n",
       "      <th>count</th>\n",
       "      <td>8514.000000</td>\n",
       "      <td>8512.000000</td>\n",
       "      <td>8510.000000</td>\n",
       "      <td>8485.000000</td>\n",
       "      <td>8510.000000</td>\n",
       "      <td>8505.000000</td>\n",
       "    </tr>\n",
       "    <tr>\n",
       "      <th>mean</th>\n",
       "      <td>28.827930</td>\n",
       "      <td>224.687617</td>\n",
       "      <td>458.077203</td>\n",
       "      <td>173.729169</td>\n",
       "      <td>311.138778</td>\n",
       "      <td>304.854791</td>\n",
       "    </tr>\n",
       "    <tr>\n",
       "      <th>std</th>\n",
       "      <td>14.489021</td>\n",
       "      <td>666.717663</td>\n",
       "      <td>1611.489240</td>\n",
       "      <td>604.696458</td>\n",
       "      <td>1136.705535</td>\n",
       "      <td>1145.717189</td>\n",
       "    </tr>\n",
       "    <tr>\n",
       "      <th>min</th>\n",
       "      <td>0.000000</td>\n",
       "      <td>0.000000</td>\n",
       "      <td>0.000000</td>\n",
       "      <td>0.000000</td>\n",
       "      <td>0.000000</td>\n",
       "      <td>0.000000</td>\n",
       "    </tr>\n",
       "    <tr>\n",
       "      <th>25%</th>\n",
       "      <td>19.000000</td>\n",
       "      <td>0.000000</td>\n",
       "      <td>0.000000</td>\n",
       "      <td>0.000000</td>\n",
       "      <td>0.000000</td>\n",
       "      <td>0.000000</td>\n",
       "    </tr>\n",
       "    <tr>\n",
       "      <th>50%</th>\n",
       "      <td>27.000000</td>\n",
       "      <td>0.000000</td>\n",
       "      <td>0.000000</td>\n",
       "      <td>0.000000</td>\n",
       "      <td>0.000000</td>\n",
       "      <td>0.000000</td>\n",
       "    </tr>\n",
       "    <tr>\n",
       "      <th>75%</th>\n",
       "      <td>38.000000</td>\n",
       "      <td>47.000000</td>\n",
       "      <td>76.000000</td>\n",
       "      <td>27.000000</td>\n",
       "      <td>59.000000</td>\n",
       "      <td>46.000000</td>\n",
       "    </tr>\n",
       "    <tr>\n",
       "      <th>max</th>\n",
       "      <td>79.000000</td>\n",
       "      <td>14327.000000</td>\n",
       "      <td>29813.000000</td>\n",
       "      <td>23492.000000</td>\n",
       "      <td>22408.000000</td>\n",
       "      <td>24133.000000</td>\n",
       "    </tr>\n",
       "  </tbody>\n",
       "</table>\n",
       "</div>"
      ],
      "text/plain": [
       "               Age   RoomService     FoodCourt  ShoppingMall           Spa  \\\n",
       "count  8514.000000   8512.000000   8510.000000   8485.000000   8510.000000   \n",
       "mean     28.827930    224.687617    458.077203    173.729169    311.138778   \n",
       "std      14.489021    666.717663   1611.489240    604.696458   1136.705535   \n",
       "min       0.000000      0.000000      0.000000      0.000000      0.000000   \n",
       "25%      19.000000      0.000000      0.000000      0.000000      0.000000   \n",
       "50%      27.000000      0.000000      0.000000      0.000000      0.000000   \n",
       "75%      38.000000     47.000000     76.000000     27.000000     59.000000   \n",
       "max      79.000000  14327.000000  29813.000000  23492.000000  22408.000000   \n",
       "\n",
       "             VRDeck  \n",
       "count   8505.000000  \n",
       "mean     304.854791  \n",
       "std     1145.717189  \n",
       "min        0.000000  \n",
       "25%        0.000000  \n",
       "50%        0.000000  \n",
       "75%       46.000000  \n",
       "max    24133.000000  "
      ]
     },
     "execution_count": 2,
     "metadata": {},
     "output_type": "execute_result"
    }
   ],
   "source": [
    "train_data = pd.read_csv('train.csv') \n",
    "test_data = pd.read_csv('test.csv') \n",
    "\n",
    "print(\"Full train dataset shape is {}\".format(train_data.shape))\n",
    "print(\"Full test dataset shape is {}\".format(test_data.shape))\n",
    "train_data.describe() "
   ]
  },
  {
   "cell_type": "markdown",
   "id": "f7a529ec",
   "metadata": {},
   "source": [
    "### Analyse the dataset"
   ]
  },
  {
   "cell_type": "markdown",
   "id": "d7936ef7",
   "metadata": {},
   "source": [
    "#### File and Data Field Descriptions:\n",
    "` train.csv` - Personal records for about two-thirds (~8700) of the passengers, to be used as training data.\n",
    "\n",
    "- __PassengerId__ - A unique Id for each passenger. Each Id takes the form *gggg_pp* where *gggg* indicates a group the passenger is travelling with and *pp* is their number within the group. People in a group are often family members, but not always.\n",
    "- __HomePlanet__ - The planet the passenger departed from, typically their planet of permanent residence.\n",
    "- __CryoSleep__ - Indicates whether the passenger elected to be put into suspended animation for the duration of the voyage. Passengers in cryosleep are confined to their cabins.\n",
    "- __Cabin__ - The cabin number where the passenger is staying. Takes the form *deck/num/side*, where side can be either *P* for Port or *S* for Starboard.\n",
    "- __Destination__ - The planet the passenger will be debarking to.\n",
    "- __Age__ - The age of the passenger.\n",
    "- __VIP__ - Whether the passenger has paid for special VIP service during the voyage.\n",
    "- __RoomService, FoodCourt, ShoppingMall, Spa, VRDeck__ - Amount the passenger has billed at each of the Spaceship Titanic's many luxury amenities.\n",
    "- __Name__ - The first and last names of the passenger.\n",
    "- __Transported__ - Whether the passenger was transported to another dimension. This is the target, the column you are trying to predict.\n",
    "\n",
    "`test.csv` - Personal records for the remaining one-third (~4300) of the passengers, to be used as test data. Your task is to predict the value of Transported for the passengers in this set.\n"
   ]
  },
  {
   "cell_type": "code",
   "execution_count": 3,
   "id": "ec399568",
   "metadata": {},
   "outputs": [
    {
     "data": {
      "text/html": [
       "<div>\n",
       "<style scoped>\n",
       "    .dataframe tbody tr th:only-of-type {\n",
       "        vertical-align: middle;\n",
       "    }\n",
       "\n",
       "    .dataframe tbody tr th {\n",
       "        vertical-align: top;\n",
       "    }\n",
       "\n",
       "    .dataframe thead th {\n",
       "        text-align: right;\n",
       "    }\n",
       "</style>\n",
       "<table border=\"1\" class=\"dataframe\">\n",
       "  <thead>\n",
       "    <tr style=\"text-align: right;\">\n",
       "      <th></th>\n",
       "      <th>PassengerId</th>\n",
       "      <th>HomePlanet</th>\n",
       "      <th>CryoSleep</th>\n",
       "      <th>Cabin</th>\n",
       "      <th>Destination</th>\n",
       "      <th>Age</th>\n",
       "      <th>VIP</th>\n",
       "      <th>RoomService</th>\n",
       "      <th>FoodCourt</th>\n",
       "      <th>ShoppingMall</th>\n",
       "      <th>Spa</th>\n",
       "      <th>VRDeck</th>\n",
       "      <th>Name</th>\n",
       "      <th>Transported</th>\n",
       "    </tr>\n",
       "  </thead>\n",
       "  <tbody>\n",
       "    <tr>\n",
       "      <th>0</th>\n",
       "      <td>0001_01</td>\n",
       "      <td>Europa</td>\n",
       "      <td>False</td>\n",
       "      <td>B/0/P</td>\n",
       "      <td>TRAPPIST-1e</td>\n",
       "      <td>39.0</td>\n",
       "      <td>False</td>\n",
       "      <td>0.0</td>\n",
       "      <td>0.0</td>\n",
       "      <td>0.0</td>\n",
       "      <td>0.0</td>\n",
       "      <td>0.0</td>\n",
       "      <td>Maham Ofracculy</td>\n",
       "      <td>False</td>\n",
       "    </tr>\n",
       "    <tr>\n",
       "      <th>1</th>\n",
       "      <td>0002_01</td>\n",
       "      <td>Earth</td>\n",
       "      <td>False</td>\n",
       "      <td>F/0/S</td>\n",
       "      <td>TRAPPIST-1e</td>\n",
       "      <td>24.0</td>\n",
       "      <td>False</td>\n",
       "      <td>109.0</td>\n",
       "      <td>9.0</td>\n",
       "      <td>25.0</td>\n",
       "      <td>549.0</td>\n",
       "      <td>44.0</td>\n",
       "      <td>Juanna Vines</td>\n",
       "      <td>True</td>\n",
       "    </tr>\n",
       "    <tr>\n",
       "      <th>2</th>\n",
       "      <td>0003_01</td>\n",
       "      <td>Europa</td>\n",
       "      <td>False</td>\n",
       "      <td>A/0/S</td>\n",
       "      <td>TRAPPIST-1e</td>\n",
       "      <td>58.0</td>\n",
       "      <td>True</td>\n",
       "      <td>43.0</td>\n",
       "      <td>3576.0</td>\n",
       "      <td>0.0</td>\n",
       "      <td>6715.0</td>\n",
       "      <td>49.0</td>\n",
       "      <td>Altark Susent</td>\n",
       "      <td>False</td>\n",
       "    </tr>\n",
       "    <tr>\n",
       "      <th>3</th>\n",
       "      <td>0003_02</td>\n",
       "      <td>Europa</td>\n",
       "      <td>False</td>\n",
       "      <td>A/0/S</td>\n",
       "      <td>TRAPPIST-1e</td>\n",
       "      <td>33.0</td>\n",
       "      <td>False</td>\n",
       "      <td>0.0</td>\n",
       "      <td>1283.0</td>\n",
       "      <td>371.0</td>\n",
       "      <td>3329.0</td>\n",
       "      <td>193.0</td>\n",
       "      <td>Solam Susent</td>\n",
       "      <td>False</td>\n",
       "    </tr>\n",
       "    <tr>\n",
       "      <th>4</th>\n",
       "      <td>0004_01</td>\n",
       "      <td>Earth</td>\n",
       "      <td>False</td>\n",
       "      <td>F/1/S</td>\n",
       "      <td>TRAPPIST-1e</td>\n",
       "      <td>16.0</td>\n",
       "      <td>False</td>\n",
       "      <td>303.0</td>\n",
       "      <td>70.0</td>\n",
       "      <td>151.0</td>\n",
       "      <td>565.0</td>\n",
       "      <td>2.0</td>\n",
       "      <td>Willy Santantines</td>\n",
       "      <td>True</td>\n",
       "    </tr>\n",
       "  </tbody>\n",
       "</table>\n",
       "</div>"
      ],
      "text/plain": [
       "  PassengerId HomePlanet CryoSleep  Cabin  Destination   Age    VIP  \\\n",
       "0     0001_01     Europa     False  B/0/P  TRAPPIST-1e  39.0  False   \n",
       "1     0002_01      Earth     False  F/0/S  TRAPPIST-1e  24.0  False   \n",
       "2     0003_01     Europa     False  A/0/S  TRAPPIST-1e  58.0   True   \n",
       "3     0003_02     Europa     False  A/0/S  TRAPPIST-1e  33.0  False   \n",
       "4     0004_01      Earth     False  F/1/S  TRAPPIST-1e  16.0  False   \n",
       "\n",
       "   RoomService  FoodCourt  ShoppingMall     Spa  VRDeck               Name  \\\n",
       "0          0.0        0.0           0.0     0.0     0.0    Maham Ofracculy   \n",
       "1        109.0        9.0          25.0   549.0    44.0       Juanna Vines   \n",
       "2         43.0     3576.0           0.0  6715.0    49.0      Altark Susent   \n",
       "3          0.0     1283.0         371.0  3329.0   193.0       Solam Susent   \n",
       "4        303.0       70.0         151.0   565.0     2.0  Willy Santantines   \n",
       "\n",
       "   Transported  \n",
       "0        False  \n",
       "1         True  \n",
       "2        False  \n",
       "3        False  \n",
       "4         True  "
      ]
     },
     "execution_count": 3,
     "metadata": {},
     "output_type": "execute_result"
    }
   ],
   "source": [
    "train_data[:5]"
   ]
  },
  {
   "cell_type": "code",
   "execution_count": 4,
   "id": "8430178a",
   "metadata": {},
   "outputs": [
    {
     "name": "stdout",
     "output_type": "stream",
     "text": [
      "<class 'pandas.core.frame.DataFrame'>\n",
      "RangeIndex: 8693 entries, 0 to 8692\n",
      "Data columns (total 14 columns):\n",
      " #   Column        Non-Null Count  Dtype  \n",
      "---  ------        --------------  -----  \n",
      " 0   PassengerId   8693 non-null   object \n",
      " 1   HomePlanet    8492 non-null   object \n",
      " 2   CryoSleep     8476 non-null   object \n",
      " 3   Cabin         8494 non-null   object \n",
      " 4   Destination   8511 non-null   object \n",
      " 5   Age           8514 non-null   float64\n",
      " 6   VIP           8490 non-null   object \n",
      " 7   RoomService   8512 non-null   float64\n",
      " 8   FoodCourt     8510 non-null   float64\n",
      " 9   ShoppingMall  8485 non-null   float64\n",
      " 10  Spa           8510 non-null   float64\n",
      " 11  VRDeck        8505 non-null   float64\n",
      " 12  Name          8493 non-null   object \n",
      " 13  Transported   8693 non-null   bool   \n",
      "dtypes: bool(1), float64(6), object(7)\n",
      "memory usage: 891.5+ KB\n"
     ]
    }
   ],
   "source": [
    "train_data.info()"
   ]
  },
  {
   "cell_type": "markdown",
   "id": "f09ba51e",
   "metadata": {},
   "source": [
    "Display categorical data:"
   ]
  },
  {
   "cell_type": "code",
   "execution_count": 5,
   "id": "a920f6ef",
   "metadata": {},
   "outputs": [
    {
     "data": {
      "text/html": [
       "<div>\n",
       "<style scoped>\n",
       "    .dataframe tbody tr th:only-of-type {\n",
       "        vertical-align: middle;\n",
       "    }\n",
       "\n",
       "    .dataframe tbody tr th {\n",
       "        vertical-align: top;\n",
       "    }\n",
       "\n",
       "    .dataframe thead th {\n",
       "        text-align: right;\n",
       "    }\n",
       "</style>\n",
       "<table border=\"1\" class=\"dataframe\">\n",
       "  <thead>\n",
       "    <tr style=\"text-align: right;\">\n",
       "      <th></th>\n",
       "      <th>PassengerId</th>\n",
       "      <th>HomePlanet</th>\n",
       "      <th>CryoSleep</th>\n",
       "      <th>Cabin</th>\n",
       "      <th>Destination</th>\n",
       "      <th>VIP</th>\n",
       "      <th>Name</th>\n",
       "    </tr>\n",
       "  </thead>\n",
       "  <tbody>\n",
       "    <tr>\n",
       "      <th>count</th>\n",
       "      <td>8693</td>\n",
       "      <td>8492</td>\n",
       "      <td>8476</td>\n",
       "      <td>8494</td>\n",
       "      <td>8511</td>\n",
       "      <td>8490</td>\n",
       "      <td>8493</td>\n",
       "    </tr>\n",
       "    <tr>\n",
       "      <th>unique</th>\n",
       "      <td>8693</td>\n",
       "      <td>3</td>\n",
       "      <td>2</td>\n",
       "      <td>6560</td>\n",
       "      <td>3</td>\n",
       "      <td>2</td>\n",
       "      <td>8473</td>\n",
       "    </tr>\n",
       "    <tr>\n",
       "      <th>top</th>\n",
       "      <td>0001_01</td>\n",
       "      <td>Earth</td>\n",
       "      <td>False</td>\n",
       "      <td>G/734/S</td>\n",
       "      <td>TRAPPIST-1e</td>\n",
       "      <td>False</td>\n",
       "      <td>Gollux Reedall</td>\n",
       "    </tr>\n",
       "    <tr>\n",
       "      <th>freq</th>\n",
       "      <td>1</td>\n",
       "      <td>4602</td>\n",
       "      <td>5439</td>\n",
       "      <td>8</td>\n",
       "      <td>5915</td>\n",
       "      <td>8291</td>\n",
       "      <td>2</td>\n",
       "    </tr>\n",
       "  </tbody>\n",
       "</table>\n",
       "</div>"
      ],
      "text/plain": [
       "       PassengerId HomePlanet CryoSleep    Cabin  Destination    VIP  \\\n",
       "count         8693       8492      8476     8494         8511   8490   \n",
       "unique        8693          3         2     6560            3      2   \n",
       "top        0001_01      Earth     False  G/734/S  TRAPPIST-1e  False   \n",
       "freq             1       4602      5439        8         5915   8291   \n",
       "\n",
       "                  Name  \n",
       "count             8493  \n",
       "unique            8473  \n",
       "top     Gollux Reedall  \n",
       "freq                 2  "
      ]
     },
     "execution_count": 5,
     "metadata": {},
     "output_type": "execute_result"
    }
   ],
   "source": [
    "train_data.describe(include=['O'])"
   ]
  },
  {
   "cell_type": "code",
   "execution_count": 6,
   "id": "331fba4f",
   "metadata": {},
   "outputs": [
    {
     "data": {
      "text/html": [
       "<div>\n",
       "<style scoped>\n",
       "    .dataframe tbody tr th:only-of-type {\n",
       "        vertical-align: middle;\n",
       "    }\n",
       "\n",
       "    .dataframe tbody tr th {\n",
       "        vertical-align: top;\n",
       "    }\n",
       "\n",
       "    .dataframe thead th {\n",
       "        text-align: right;\n",
       "    }\n",
       "</style>\n",
       "<table border=\"1\" class=\"dataframe\">\n",
       "  <thead>\n",
       "    <tr style=\"text-align: right;\">\n",
       "      <th></th>\n",
       "      <th>HomePlanet</th>\n",
       "      <th>Transported</th>\n",
       "    </tr>\n",
       "  </thead>\n",
       "  <tbody>\n",
       "    <tr>\n",
       "      <th>0</th>\n",
       "      <td>Earth</td>\n",
       "      <td>0.423946</td>\n",
       "    </tr>\n",
       "    <tr>\n",
       "      <th>1</th>\n",
       "      <td>Europa</td>\n",
       "      <td>0.658846</td>\n",
       "    </tr>\n",
       "    <tr>\n",
       "      <th>2</th>\n",
       "      <td>Mars</td>\n",
       "      <td>0.523024</td>\n",
       "    </tr>\n",
       "  </tbody>\n",
       "</table>\n",
       "</div>"
      ],
      "text/plain": [
       "  HomePlanet  Transported\n",
       "0      Earth     0.423946\n",
       "1     Europa     0.658846\n",
       "2       Mars     0.523024"
      ]
     },
     "execution_count": 6,
     "metadata": {},
     "output_type": "execute_result"
    }
   ],
   "source": [
    "train_data.groupby(['HomePlanet'], as_index=False)['Transported'].mean()"
   ]
  },
  {
   "cell_type": "code",
   "execution_count": 7,
   "id": "77bf14f0",
   "metadata": {},
   "outputs": [
    {
     "data": {
      "text/html": [
       "<div>\n",
       "<style scoped>\n",
       "    .dataframe tbody tr th:only-of-type {\n",
       "        vertical-align: middle;\n",
       "    }\n",
       "\n",
       "    .dataframe tbody tr th {\n",
       "        vertical-align: top;\n",
       "    }\n",
       "\n",
       "    .dataframe thead th {\n",
       "        text-align: right;\n",
       "    }\n",
       "</style>\n",
       "<table border=\"1\" class=\"dataframe\">\n",
       "  <thead>\n",
       "    <tr style=\"text-align: right;\">\n",
       "      <th></th>\n",
       "      <th>CryoSleep</th>\n",
       "      <th>Transported</th>\n",
       "    </tr>\n",
       "  </thead>\n",
       "  <tbody>\n",
       "    <tr>\n",
       "      <th>0</th>\n",
       "      <td>False</td>\n",
       "      <td>0.328921</td>\n",
       "    </tr>\n",
       "    <tr>\n",
       "      <th>1</th>\n",
       "      <td>True</td>\n",
       "      <td>0.817583</td>\n",
       "    </tr>\n",
       "  </tbody>\n",
       "</table>\n",
       "</div>"
      ],
      "text/plain": [
       "  CryoSleep  Transported\n",
       "0     False     0.328921\n",
       "1      True     0.817583"
      ]
     },
     "execution_count": 7,
     "metadata": {},
     "output_type": "execute_result"
    }
   ],
   "source": [
    "train_data.groupby(['CryoSleep'], as_index=False)['Transported'].mean()"
   ]
  },
  {
   "cell_type": "code",
   "execution_count": 8,
   "id": "3f52e2b4",
   "metadata": {},
   "outputs": [
    {
     "data": {
      "text/html": [
       "<div>\n",
       "<style scoped>\n",
       "    .dataframe tbody tr th:only-of-type {\n",
       "        vertical-align: middle;\n",
       "    }\n",
       "\n",
       "    .dataframe tbody tr th {\n",
       "        vertical-align: top;\n",
       "    }\n",
       "\n",
       "    .dataframe thead th {\n",
       "        text-align: right;\n",
       "    }\n",
       "</style>\n",
       "<table border=\"1\" class=\"dataframe\">\n",
       "  <thead>\n",
       "    <tr style=\"text-align: right;\">\n",
       "      <th></th>\n",
       "      <th>VIP</th>\n",
       "      <th>Transported</th>\n",
       "    </tr>\n",
       "  </thead>\n",
       "  <tbody>\n",
       "    <tr>\n",
       "      <th>0</th>\n",
       "      <td>False</td>\n",
       "      <td>0.506332</td>\n",
       "    </tr>\n",
       "    <tr>\n",
       "      <th>1</th>\n",
       "      <td>True</td>\n",
       "      <td>0.381910</td>\n",
       "    </tr>\n",
       "  </tbody>\n",
       "</table>\n",
       "</div>"
      ],
      "text/plain": [
       "     VIP  Transported\n",
       "0  False     0.506332\n",
       "1   True     0.381910"
      ]
     },
     "execution_count": 8,
     "metadata": {},
     "output_type": "execute_result"
    }
   ],
   "source": [
    "train_data.groupby(['VIP'], as_index=False)['Transported'].mean()"
   ]
  },
  {
   "cell_type": "code",
   "execution_count": 9,
   "id": "b264cf62",
   "metadata": {},
   "outputs": [
    {
     "data": {
      "text/html": [
       "<div>\n",
       "<style scoped>\n",
       "    .dataframe tbody tr th:only-of-type {\n",
       "        vertical-align: middle;\n",
       "    }\n",
       "\n",
       "    .dataframe tbody tr th {\n",
       "        vertical-align: top;\n",
       "    }\n",
       "\n",
       "    .dataframe thead th {\n",
       "        text-align: right;\n",
       "    }\n",
       "</style>\n",
       "<table border=\"1\" class=\"dataframe\">\n",
       "  <thead>\n",
       "    <tr style=\"text-align: right;\">\n",
       "      <th></th>\n",
       "      <th>Destination</th>\n",
       "      <th>Transported</th>\n",
       "    </tr>\n",
       "  </thead>\n",
       "  <tbody>\n",
       "    <tr>\n",
       "      <th>0</th>\n",
       "      <td>55 Cancri e</td>\n",
       "      <td>0.610000</td>\n",
       "    </tr>\n",
       "    <tr>\n",
       "      <th>1</th>\n",
       "      <td>PSO J318.5-22</td>\n",
       "      <td>0.503769</td>\n",
       "    </tr>\n",
       "    <tr>\n",
       "      <th>2</th>\n",
       "      <td>TRAPPIST-1e</td>\n",
       "      <td>0.471175</td>\n",
       "    </tr>\n",
       "  </tbody>\n",
       "</table>\n",
       "</div>"
      ],
      "text/plain": [
       "     Destination  Transported\n",
       "0    55 Cancri e     0.610000\n",
       "1  PSO J318.5-22     0.503769\n",
       "2    TRAPPIST-1e     0.471175"
      ]
     },
     "execution_count": 9,
     "metadata": {},
     "output_type": "execute_result"
    }
   ],
   "source": [
    "train_data.groupby(['Destination'], as_index=False)['Transported'].mean()"
   ]
  },
  {
   "cell_type": "code",
   "execution_count": 10,
   "id": "c3086d35",
   "metadata": {},
   "outputs": [
    {
     "data": {
      "text/plain": [
       "<seaborn.axisgrid.FacetGrid at 0x73b4961b61b0>"
      ]
     },
     "execution_count": 10,
     "metadata": {},
     "output_type": "execute_result"
    },
    {
     "data": {
      "image/png": "[encoded data removed]",
      "text/plain": [
       "<Figure size 1000x500 with 2 Axes>"
      ]
     },
     "metadata": {},
     "output_type": "display_data"
    }
   ],
   "source": [
    "sb.displot(train_data, x='Age', col ='Transported', binwidth=10, height=5)"
   ]
  },
  {
   "cell_type": "code",
   "execution_count": 11,
   "id": "0eba247f",
   "metadata": {},
   "outputs": [],
   "source": [
    "# def binning(train_df, test_df, original_col, cut_col):\n",
    "#     \"\"\"\n",
    "#     Convert qcut categorical bins to numerical labels\n",
    "#     \"\"\"\n",
    "#     # Get bin edges from training data (dropna to avoid issues)\n",
    "#     _, bin_edges = pd.qcut(train_df[original_col].astype(float), 8, retbins=True, duplicates='drop')\n",
    "    \n",
    "#     # Apply to both datasets, assign to new column\n",
    "#     train_df[cut_col] = pd.cut(train_df[original_col].astype(float), bins=bin_edges, labels=range(len(bin_edges)-1))\n",
    "#     test_df[cut_col] = pd.cut(test_df[original_col].astype(float), bins=bin_edges, labels=range(len(bin_edges)-1))\n",
    "    \n",
    "#     # # Convert to numeric type (optional: keep as int, NaN stays as NaN)\n",
    "#     # train_df[cut_col] = train_df[cut_col].astype('float')\n",
    "#     # test_df[cut_col] = test_df[cut_col].astype('float')\n",
    "    \n",
    "#     return train_df, test_df\n",
    "\n",
    "# # Usage\n",
    "# train_data, test_data = binning(train_data, test_data, 'Age', 'AgeCut')"
   ]
  },
  {
   "cell_type": "code",
   "execution_count": 12,
   "id": "2eaa54b1",
   "metadata": {},
   "outputs": [],
   "source": [
    "# train_data.groupby(['AgeCut'], as_index=False)['Transported'].mean()"
   ]
  },
  {
   "cell_type": "code",
   "execution_count": 13,
   "id": "01a71a6d",
   "metadata": {},
   "outputs": [
    {
     "data": {
      "text/plain": [
       "179"
      ]
     },
     "execution_count": 13,
     "metadata": {},
     "output_type": "execute_result"
    }
   ],
   "source": [
    "train_data['Age'].isna().sum()"
   ]
  },
  {
   "cell_type": "code",
   "execution_count": 14,
   "id": "225ab3e2",
   "metadata": {},
   "outputs": [
    {
     "data": {
      "image/png": "[encoded data removed]",
      "text/plain": [
       "<Figure size 640x480 with 1 Axes>"
      ]
     },
     "metadata": {},
     "output_type": "display_data"
    }
   ],
   "source": [
    "g = sb.kdeplot(train_data['FoodCourt'][(train_data['Transported'] == 0) & (train_data['FoodCourt'].notnull())], color='red', fill = True)\n",
    "g = sb.kdeplot(train_data['FoodCourt'][(train_data['Transported'] == 1) & (train_data['FoodCourt'].notnull())], ax = g, color = 'blue', fill = True)\n",
    "\n",
    "g.set_xlabel('Food Court Spending')\n",
    "g.set_ylabel('Frequency')\n",
    "g = g.legend(['Not Transported', 'Transported'])"
   ]
  },
  {
   "cell_type": "code",
   "execution_count": 15,
   "id": "fedc1c1a",
   "metadata": {},
   "outputs": [
    {
     "data": {
      "image/png": "[encoded data removed]",
      "text/plain": [
       "<Figure size 640x480 with 1 Axes>"
      ]
     },
     "metadata": {},
     "output_type": "display_data"
    }
   ],
   "source": [
    "g = sb.kdeplot(train_data['ShoppingMall'][(train_data['Transported'] == 0) & (train_data['ShoppingMall'].notnull())], color='red', fill = True)\n",
    "g = sb.kdeplot(train_data['ShoppingMall'][(train_data['Transported'] == 1) & (train_data['ShoppingMall'].notnull())], ax = g, color = 'blue', fill = True)\n",
    "\n",
    "g.set_xlabel('Shopping Mall Spending')\n",
    "g.set_ylabel('Frequency')\n",
    "g = g.legend(['Not Transported', 'Transported'])"
   ]
  },
  {
   "cell_type": "code",
   "execution_count": 16,
   "id": "08318343",
   "metadata": {},
   "outputs": [
    {
     "data": {
      "image/png": "[encoded data removed]",
      "text/plain": [
       "<Figure size 640x480 with 1 Axes>"
      ]
     },
     "metadata": {},
     "output_type": "display_data"
    }
   ],
   "source": [
    "g = sb.kdeplot(train_data['VRDeck'][(train_data['Transported'] == 0) & (train_data['VRDeck'].notnull())], color='red', fill = True)\n",
    "g = sb.kdeplot(train_data['VRDeck'][(train_data['Transported'] == 1) & (train_data['VRDeck'].notnull())], ax = g, color = 'blue', fill = True)\n",
    "\n",
    "g.set_xlabel('VR Deck Spending')\n",
    "g.set_ylabel('Frequency')\n",
    "g = g.legend(['Not Transported', 'Transported'])"
   ]
  },
  {
   "cell_type": "code",
   "execution_count": 17,
   "id": "f911f6b2",
   "metadata": {},
   "outputs": [],
   "source": [
    "train_data['LuxuryExpenses'] = train_data['RoomService'] + train_data['Spa'] + train_data['VRDeck']\n",
    "test_data['LuxuryExpenses'] = test_data['RoomService'] + test_data['Spa'] + test_data['VRDeck']"
   ]
  },
  {
   "cell_type": "code",
   "execution_count": 18,
   "id": "91cd7ce7",
   "metadata": {},
   "outputs": [],
   "source": [
    "train_data['Expenses'] = train_data['FoodCourt'] + train_data['ShoppingMall']\n",
    "test_data['Expenses'] = test_data['FoodCourt'] + test_data['ShoppingMall']"
   ]
  },
  {
   "cell_type": "code",
   "execution_count": 19,
   "id": "9f4524c2",
   "metadata": {},
   "outputs": [
    {
     "data": {
      "text/html": [
       "<div>\n",
       "<style scoped>\n",
       "    .dataframe tbody tr th:only-of-type {\n",
       "        vertical-align: middle;\n",
       "    }\n",
       "\n",
       "    .dataframe tbody tr th {\n",
       "        vertical-align: top;\n",
       "    }\n",
       "\n",
       "    .dataframe thead th {\n",
       "        text-align: right;\n",
       "    }\n",
       "</style>\n",
       "<table border=\"1\" class=\"dataframe\">\n",
       "  <thead>\n",
       "    <tr style=\"text-align: right;\">\n",
       "      <th></th>\n",
       "      <th>PassengerId</th>\n",
       "      <th>HomePlanet</th>\n",
       "      <th>CryoSleep</th>\n",
       "      <th>Cabin</th>\n",
       "      <th>Destination</th>\n",
       "      <th>Age</th>\n",
       "      <th>VIP</th>\n",
       "      <th>RoomService</th>\n",
       "      <th>FoodCourt</th>\n",
       "      <th>ShoppingMall</th>\n",
       "      <th>Spa</th>\n",
       "      <th>VRDeck</th>\n",
       "      <th>Name</th>\n",
       "      <th>Transported</th>\n",
       "      <th>LuxuryExpenses</th>\n",
       "      <th>Expenses</th>\n",
       "    </tr>\n",
       "  </thead>\n",
       "  <tbody>\n",
       "    <tr>\n",
       "      <th>0</th>\n",
       "      <td>0001_01</td>\n",
       "      <td>Europa</td>\n",
       "      <td>False</td>\n",
       "      <td>B/0/P</td>\n",
       "      <td>TRAPPIST-1e</td>\n",
       "      <td>39.0</td>\n",
       "      <td>False</td>\n",
       "      <td>0.0</td>\n",
       "      <td>0.0</td>\n",
       "      <td>0.0</td>\n",
       "      <td>0.0</td>\n",
       "      <td>0.0</td>\n",
       "      <td>Maham Ofracculy</td>\n",
       "      <td>False</td>\n",
       "      <td>0.0</td>\n",
       "      <td>0.0</td>\n",
       "    </tr>\n",
       "    <tr>\n",
       "      <th>1</th>\n",
       "      <td>0002_01</td>\n",
       "      <td>Earth</td>\n",
       "      <td>False</td>\n",
       "      <td>F/0/S</td>\n",
       "      <td>TRAPPIST-1e</td>\n",
       "      <td>24.0</td>\n",
       "      <td>False</td>\n",
       "      <td>109.0</td>\n",
       "      <td>9.0</td>\n",
       "      <td>25.0</td>\n",
       "      <td>549.0</td>\n",
       "      <td>44.0</td>\n",
       "      <td>Juanna Vines</td>\n",
       "      <td>True</td>\n",
       "      <td>702.0</td>\n",
       "      <td>34.0</td>\n",
       "    </tr>\n",
       "    <tr>\n",
       "      <th>2</th>\n",
       "      <td>0003_01</td>\n",
       "      <td>Europa</td>\n",
       "      <td>False</td>\n",
       "      <td>A/0/S</td>\n",
       "      <td>TRAPPIST-1e</td>\n",
       "      <td>58.0</td>\n",
       "      <td>True</td>\n",
       "      <td>43.0</td>\n",
       "      <td>3576.0</td>\n",
       "      <td>0.0</td>\n",
       "      <td>6715.0</td>\n",
       "      <td>49.0</td>\n",
       "      <td>Altark Susent</td>\n",
       "      <td>False</td>\n",
       "      <td>6807.0</td>\n",
       "      <td>3576.0</td>\n",
       "    </tr>\n",
       "    <tr>\n",
       "      <th>3</th>\n",
       "      <td>0003_02</td>\n",
       "      <td>Europa</td>\n",
       "      <td>False</td>\n",
       "      <td>A/0/S</td>\n",
       "      <td>TRAPPIST-1e</td>\n",
       "      <td>33.0</td>\n",
       "      <td>False</td>\n",
       "      <td>0.0</td>\n",
       "      <td>1283.0</td>\n",
       "      <td>371.0</td>\n",
       "      <td>3329.0</td>\n",
       "      <td>193.0</td>\n",
       "      <td>Solam Susent</td>\n",
       "      <td>False</td>\n",
       "      <td>3522.0</td>\n",
       "      <td>1654.0</td>\n",
       "    </tr>\n",
       "    <tr>\n",
       "      <th>4</th>\n",
       "      <td>0004_01</td>\n",
       "      <td>Earth</td>\n",
       "      <td>False</td>\n",
       "      <td>F/1/S</td>\n",
       "      <td>TRAPPIST-1e</td>\n",
       "      <td>16.0</td>\n",
       "      <td>False</td>\n",
       "      <td>303.0</td>\n",
       "      <td>70.0</td>\n",
       "      <td>151.0</td>\n",
       "      <td>565.0</td>\n",
       "      <td>2.0</td>\n",
       "      <td>Willy Santantines</td>\n",
       "      <td>True</td>\n",
       "      <td>870.0</td>\n",
       "      <td>221.0</td>\n",
       "    </tr>\n",
       "  </tbody>\n",
       "</table>\n",
       "</div>"
      ],
      "text/plain": [
       "  PassengerId HomePlanet CryoSleep  Cabin  Destination   Age    VIP  \\\n",
       "0     0001_01     Europa     False  B/0/P  TRAPPIST-1e  39.0  False   \n",
       "1     0002_01      Earth     False  F/0/S  TRAPPIST-1e  24.0  False   \n",
       "2     0003_01     Europa     False  A/0/S  TRAPPIST-1e  58.0   True   \n",
       "3     0003_02     Europa     False  A/0/S  TRAPPIST-1e  33.0  False   \n",
       "4     0004_01      Earth     False  F/1/S  TRAPPIST-1e  16.0  False   \n",
       "\n",
       "   RoomService  FoodCourt  ShoppingMall     Spa  VRDeck               Name  \\\n",
       "0          0.0        0.0           0.0     0.0     0.0    Maham Ofracculy   \n",
       "1        109.0        9.0          25.0   549.0    44.0       Juanna Vines   \n",
       "2         43.0     3576.0           0.0  6715.0    49.0      Altark Susent   \n",
       "3          0.0     1283.0         371.0  3329.0   193.0       Solam Susent   \n",
       "4        303.0       70.0         151.0   565.0     2.0  Willy Santantines   \n",
       "\n",
       "   Transported  LuxuryExpenses  Expenses  \n",
       "0        False             0.0       0.0  \n",
       "1         True           702.0      34.0  \n",
       "2        False          6807.0    3576.0  \n",
       "3        False          3522.0    1654.0  \n",
       "4         True           870.0     221.0  "
      ]
     },
     "execution_count": 19,
     "metadata": {},
     "output_type": "execute_result"
    }
   ],
   "source": [
    "train_data[:5]  "
   ]
  },
  {
   "cell_type": "code",
   "execution_count": 20,
   "id": "68a35054",
   "metadata": {},
   "outputs": [
    {
     "data": {
      "text/plain": [
       "Cabin\n",
       "G/734/S     8\n",
       "G/109/P     7\n",
       "B/201/P     7\n",
       "G/1368/P    7\n",
       "G/981/S     7\n",
       "           ..\n",
       "G/556/P     1\n",
       "E/231/S     1\n",
       "G/545/S     1\n",
       "G/543/S     1\n",
       "F/947/P     1\n",
       "Name: count, Length: 6560, dtype: int64"
      ]
     },
     "execution_count": 20,
     "metadata": {},
     "output_type": "execute_result"
    }
   ],
   "source": [
    "train_data['Cabin'].value_counts()"
   ]
  },
  {
   "cell_type": "markdown",
   "id": "eb1e3201",
   "metadata": {},
   "source": [
    "The value of column Cabin is a string with the format _Deck/Cabin_num/Side_. Here we will split the Cabin column and create 3 new columns _Deck, Cabin_num and Side_, since it will be easier to train the model on those individual data.\n"
   ]
  },
  {
   "cell_type": "code",
   "execution_count": 21,
   "id": "1f612b42",
   "metadata": {},
   "outputs": [],
   "source": [
    "train_data[[\"Deck\", \"Cabin_num\", \"Side\"]] = train_data[\"Cabin\"].str.split(\"/\", expand=True)\n",
    "test_data[[\"Deck\", \"Cabin_num\", \"Side\"]] = test_data[\"Cabin\"].str.split(\"/\", expand=True)"
   ]
  },
  {
   "cell_type": "code",
   "execution_count": 22,
   "id": "bee99c34",
   "metadata": {},
   "outputs": [],
   "source": [
    "try:\n",
    "    train_data = train_data.drop('Cabin', axis=1)\n",
    "except KeyError:\n",
    "    print(\"Field does not exist\")"
   ]
  },
  {
   "cell_type": "markdown",
   "id": "7a2011de",
   "metadata": {},
   "source": [
    "## Clean up and encoding data"
   ]
  },
  {
   "cell_type": "markdown",
   "id": "455b6723",
   "metadata": {},
   "source": [
    "This dataset contains a mix of numeric, categorical and missing features. TF-DF supports all these feature types natively, and no preprocessing is required.\n",
    "\n",
    "But this dataset also has boolean fields with missing values. TF-DF doesn't support boolean fields yet. So we need to convert those fields into int. To account for the missing values in the boolean fields, we will replace them with zero."
   ]
  },
  {
   "cell_type": "code",
   "execution_count": 23,
   "id": "3b61b3c6",
   "metadata": {},
   "outputs": [
    {
     "data": {
      "text/plain": [
       "Index(['PassengerId', 'HomePlanet', 'CryoSleep', 'Destination', 'Age', 'VIP',\n",
       "       'RoomService', 'FoodCourt', 'ShoppingMall', 'Spa', 'VRDeck', 'Name',\n",
       "       'Transported', 'LuxuryExpenses', 'Expenses', 'Deck', 'Cabin_num',\n",
       "       'Side'],\n",
       "      dtype='object')"
      ]
     },
     "execution_count": 23,
     "metadata": {},
     "output_type": "execute_result"
    }
   ],
   "source": [
    "train_data.columns"
   ]
  },
  {
   "cell_type": "code",
   "execution_count": 24,
   "id": "94e9c0e8",
   "metadata": {},
   "outputs": [
    {
     "name": "stdout",
     "output_type": "stream",
     "text": [
      "<class 'pandas.core.frame.DataFrame'>\n",
      "RangeIndex: 8693 entries, 0 to 8692\n",
      "Data columns (total 18 columns):\n",
      " #   Column          Non-Null Count  Dtype  \n",
      "---  ------          --------------  -----  \n",
      " 0   PassengerId     8693 non-null   object \n",
      " 1   HomePlanet      8492 non-null   object \n",
      " 2   CryoSleep       8476 non-null   object \n",
      " 3   Destination     8511 non-null   object \n",
      " 4   Age             8514 non-null   float64\n",
      " 5   VIP             8490 non-null   object \n",
      " 6   RoomService     8512 non-null   float64\n",
      " 7   FoodCourt       8510 non-null   float64\n",
      " 8   ShoppingMall    8485 non-null   float64\n",
      " 9   Spa             8510 non-null   float64\n",
      " 10  VRDeck          8505 non-null   float64\n",
      " 11  Name            8493 non-null   object \n",
      " 12  Transported     8693 non-null   bool   \n",
      " 13  LuxuryExpenses  8149 non-null   float64\n",
      " 14  Expenses        8304 non-null   float64\n",
      " 15  Deck            8494 non-null   object \n",
      " 16  Cabin_num       8494 non-null   object \n",
      " 17  Side            8494 non-null   object \n",
      "dtypes: bool(1), float64(8), object(9)\n",
      "memory usage: 1.1+ MB\n"
     ]
    }
   ],
   "source": [
    "train_data.info()\n"
   ]
  },
  {
   "cell_type": "markdown",
   "id": "3feec5b0",
   "metadata": {},
   "source": [
    "TF-DF cannot handle boolean columns, so we have to adjust the labels in the Transported to convert them into the integer format that TF-DF expects."
   ]
  },
  {
   "cell_type": "code",
   "execution_count": 25,
   "id": "8f8b491b",
   "metadata": {},
   "outputs": [],
   "source": [
    "train_data['Transported'] = train_data['Transported'].astype(int)"
   ]
  },
  {
   "cell_type": "code",
   "execution_count": 26,
   "id": "dda49dc6",
   "metadata": {},
   "outputs": [],
   "source": [
    "train_data[['VIP', 'CryoSleep']] = train_data[['VIP', 'CryoSleep']].fillna(value=0)\n",
    "test_data[['VIP', 'CryoSleep']] = test_data[['VIP', 'CryoSleep']].fillna(value=0)"
   ]
  },
  {
   "cell_type": "code",
   "execution_count": 27,
   "id": "287f013d",
   "metadata": {},
   "outputs": [],
   "source": [
    "train_data['CryoSleep'] = train_data['CryoSleep'].astype(int)\n",
    "train_data['VIP'] = train_data['VIP'].astype(int)\n",
    "test_data['CryoSleep'] = test_data['CryoSleep'].astype(int)\n",
    "test_data['VIP'] = test_data['VIP'].astype(int)"
   ]
  },
  {
   "cell_type": "code",
   "execution_count": 28,
   "id": "83642b30",
   "metadata": {},
   "outputs": [
    {
     "data": {
      "text/plain": [
       "LuxuryExpenses    544\n",
       "Expenses          389\n",
       "ShoppingMall      208\n",
       "HomePlanet        201\n",
       "Name              200\n",
       "Side              199\n",
       "Cabin_num         199\n",
       "Deck              199\n",
       "VRDeck            188\n",
       "Spa               183\n",
       "FoodCourt         183\n",
       "Destination       182\n",
       "RoomService       181\n",
       "Age               179\n",
       "Transported         0\n",
       "VIP                 0\n",
       "CryoSleep           0\n",
       "PassengerId         0\n",
       "dtype: int64"
      ]
     },
     "execution_count": 28,
     "metadata": {},
     "output_type": "execute_result"
    }
   ],
   "source": [
    "train_data[['Age','LuxuryExpenses','Expenses']].fillna(train_data[['Age','LuxuryExpenses','Expenses']].mean())\n",
    "test_data[['Age','LuxuryExpenses','Expenses']].fillna(test_data[['Age','LuxuryExpenses','Expenses']].mean())\n",
    "\n",
    "train_data.isnull().sum().sort_values(ascending=False)\n"
   ]
  },
  {
   "cell_type": "code",
   "execution_count": 29,
   "id": "58012bc9",
   "metadata": {},
   "outputs": [],
   "source": [
    "train_data = train_data.drop(['PassengerId', 'Name', 'Spa','FoodCourt','VRDeck','RoomService'], axis=1)\n",
    "test_data = test_data.drop(['PassengerId', 'Name', 'Spa','FoodCourt','VRDeck','RoomService'], axis=1)\n"
   ]
  },
  {
   "cell_type": "markdown",
   "id": "e685fa47",
   "metadata": {},
   "source": [
    "## Train, validation, and test sets\n",
    "We shall adhere to the definitions given here https://machinelearningmastery.com/difference-test-validation-datasets/):\n",
    "   \n",
    "  * __Training Dataset__: The sample of data used to fit the model.\n",
    "  * __Validation Dataset__: The sample of data used to decide 1) whether the fit is reasonable (e.g., the model has not been overfitted), 2) decide which of several models is the best and 3) tune model hyperparameters.\n",
    "  * __Test Dataset__: The sample of data used to provide an unbiased evaluation of the fitted model.\n",
    "\n",
    "The validation set will be some small fraction of the training set and will be used to decide when to stop the training.\n",
    "\n",
    "## Prepare data\n",
    "  1. Split training data into two parts: one for fitting and one for validation.\n",
    "  1. Apply a linear transformation to data so that each feature has zero mean, unit variance."
   ]
  },
  {
   "cell_type": "code",
   "execution_count": 42,
   "id": "3ad950f6",
   "metadata": {},
   "outputs": [
    {
     "name": "stdout",
     "output_type": "stream",
     "text": [
      "train set size:          6258\n",
      "validation set size:     1565\n",
      "test set size:           4277\n"
     ]
    }
   ],
   "source": [
    "# Split the training data into a part for fitting and\n",
    "# a part for validation during training.\n",
    "fraction = 1/5\n",
    "train_data, valid_data = train_test_split(train_data, \n",
    "                                          test_size=fraction)\n",
    "\n",
    "# reset the indices in the dataframes (and drop the old ones)\n",
    "# so that the indices start from zero and increment by one\n",
    "train_data = train_data.reset_index(drop=True)\n",
    "valid_data = valid_data.reset_index(drop=True)\n",
    "test_data  = test_data.reset_index(drop=True)\n",
    "\n",
    "print('train set size:        %6d' % train_data.shape[0])\n",
    "print('validation set size:   %6d' % valid_data.shape[0])\n",
    "print('test set size:         %6d' % test_data.shape[0])"
   ]
  },
  {
   "cell_type": "markdown",
   "id": "9088122d",
   "metadata": {},
   "source": [
    "There's one more step required before we can train the model. We need to convert the datatset from Pandas format (`pd.DataFrame`) into TensorFlow Datasets format (`tf.data.Dataset`).\n",
    "\n",
    "TensorFlow Datasets is a high performance data loading library which is helpful when training neural networks with accelerators like GPUs and TPUs."
   ]
  },
  {
   "cell_type": "code",
   "execution_count": 43,
   "id": "8054bc43",
   "metadata": {},
   "outputs": [],
   "source": [
    "train_data_tf = tfdf.keras.pd_dataframe_to_tf_dataset(train_data, label='Transported')\n",
    "valid_data_tf = tfdf.keras.pd_dataframe_to_tf_dataset(valid_data, label='Transported')"
   ]
  },
  {
   "cell_type": "markdown",
   "id": "91a792fc",
   "metadata": {},
   "source": [
    "## Select a Model"
   ]
  },
  {
   "cell_type": "markdown",
   "id": "47ebd191",
   "metadata": {},
   "source": [
    "There are several tree-based models for you to choose from.\n",
    "\n",
    "- RandomForestModel\n",
    "- GradientBoostedTreesModel\n",
    "- CartModel\n",
    "- DistributedGradientBoostedTreesModel"
   ]
  },
  {
   "cell_type": "code",
   "execution_count": 26,
   "id": "26b45b0a",
   "metadata": {},
   "outputs": [
    {
     "data": {
      "text/plain": [
       "[tensorflow_decision_forests.keras.RandomForestModel,\n",
       " tensorflow_decision_forests.keras.GradientBoostedTreesModel,\n",
       " tensorflow_decision_forests.keras.CartModel,\n",
       " tensorflow_decision_forests.keras.DistributedGradientBoostedTreesModel]"
      ]
     },
     "execution_count": 26,
     "metadata": {},
     "output_type": "execute_result"
    }
   ],
   "source": [
    "tfdf.keras.get_all_models()"
   ]
  },
  {
   "cell_type": "markdown",
   "id": "bc054a01",
   "metadata": {},
   "source": [
    "We will use the defaults to create the Random Forest Model. By default the model is set to train for a classification task."
   ]
  },
  {
   "cell_type": "code",
   "execution_count": 27,
   "id": "06bac0f3",
   "metadata": {},
   "outputs": [
    {
     "name": "stdout",
     "output_type": "stream",
     "text": [
      "Use /tmp/tmpdll6wg53 as temporary training directory\n"
     ]
    }
   ],
   "source": [
    "rf = tfdf.keras.RandomForestModel()\n",
    "rf.compile(metrics=[\"accuracy\"])"
   ]
  },
  {
   "cell_type": "markdown",
   "id": "4e570b45",
   "metadata": {},
   "source": [
    "## Train the model"
   ]
  },
  {
   "cell_type": "code",
   "execution_count": 28,
   "id": "d3877c90",
   "metadata": {},
   "outputs": [
    {
     "name": "stdout",
     "output_type": "stream",
     "text": [
      "Reading training dataset...\n",
      "Training dataset read in 0:00:03.061199. Found 7823 examples.\n",
      "Training model...\n"
     ]
    },
    {
     "name": "stderr",
     "output_type": "stream",
     "text": [
      "WARNING: All log messages before absl::InitializeLog() is called are written to STDERR\n",
      "I0000 00:00:1754386188.203501   55965 kernel.cc:782] Start Yggdrasil model training\n",
      "I0000 00:00:1754386188.203528   55965 kernel.cc:783] Collect training examples\n",
      "I0000 00:00:1754386188.203535   55965 kernel.cc:795] Dataspec guide:\n",
      "column_guides {\n",
      "  column_name_pattern: \"^__LABEL$\"\n",
      "  type: CATEGORICAL\n",
      "  categorial {\n",
      "    min_vocab_frequency: 0\n",
      "    max_vocab_count: -1\n",
      "  }\n",
      "}\n",
      "default_column_guide {\n",
      "  categorial {\n",
      "    max_vocab_count: 2000\n",
      "  }\n",
      "  discretized_numerical {\n",
      "    maximum_num_bins: 255\n",
      "  }\n",
      "}\n",
      "ignore_columns_without_guides: false\n",
      "detect_numerical_as_discretized_numerical: false\n",
      "\n",
      "I0000 00:00:1754386188.203846   55965 kernel.cc:401] Number of batches: 8\n",
      "I0000 00:00:1754386188.203857   55965 kernel.cc:402] Number of examples: 7823\n",
      "I0000 00:00:1754386188.205671   55965 data_spec_inference.cc:354] 1228 item(s) have been pruned (i.e. they are considered out of dictionary) for the column Cabin_num (550 item(s) left) because min_value_count=5 and max_number_of_unique_values=2000\n",
      "I0000 00:00:1754386188.206860   55965 kernel.cc:802] Training dataset:\n",
      "Number of records: 7823\n",
      "Number of columns: 12\n",
      "\n",
      "Number of columns by type:\n",
      "\tCATEGORICAL: 6 (50%)\n",
      "\tNUMERICAL: 6 (50%)\n",
      "\n",
      "Columns:\n",
      "\n",
      "CATEGORICAL: 6 (50%)\n",
      "\t1: \"Cabin_num\" CATEGORICAL num-nas:177 (2.26256%) has-dict vocab-size:551 num-oods:2914 (38.1114%) most-frequent:\"<OOD>\" 2914 (38.1114%)\n",
      "\t3: \"Deck\" CATEGORICAL num-nas:177 (2.26256%) has-dict vocab-size:9 zero-ood-items most-frequent:\"F\" 2513 (32.8669%)\n",
      "\t4: \"Destination\" CATEGORICAL num-nas:159 (2.03247%) has-dict vocab-size:4 zero-ood-items most-frequent:\"TRAPPIST-1e\" 5325 (69.4807%)\n",
      "\t6: \"HomePlanet\" CATEGORICAL num-nas:191 (2.44152%) has-dict vocab-size:4 zero-ood-items most-frequent:\"Earth\" 4151 (54.3894%)\n",
      "\t9: \"Side\" CATEGORICAL num-nas:177 (2.26256%) has-dict vocab-size:3 zero-ood-items most-frequent:\"S\" 3856 (50.4316%)\n",
      "\t11: \"__LABEL\" CATEGORICAL integerized vocab-size:3 no-ood-item\n",
      "\n",
      "NUMERICAL: 6 (50%)\n",
      "\t0: \"Age\" NUMERICAL num-nas:159 (2.03247%) mean:28.8486 min:0 max:79 sd:14.4767\n",
      "\t2: \"CryoSleep\" NUMERICAL mean:0.349227 min:0 max:1 sd:0.476726\n",
      "\t5: \"Expenses\" NUMERICAL num-nas:355 (4.5379%) mean:621.357 min:0 max:29813 sd:1668.81\n",
      "\t7: \"LuxuryExpenses\" NUMERICAL num-nas:491 (6.27636%) mean:831.528 min:0 max:28600 sd:1800.7\n",
      "\t8: \"ShoppingMall\" NUMERICAL num-nas:189 (2.41595%) mean:174.749 min:0 max:23492 sd:614.787\n",
      "\t10: \"VIP\" NUMERICAL mean:0.0224978 min:0 max:1 sd:0.148296\n",
      "\n",
      "Terminology:\n",
      "\tnas: Number of non-available (i.e. missing) values.\n",
      "\tood: Out of dictionary.\n",
      "\tmanually-defined: Attribute whose type is manually defined by the user, i.e., the type was not automatically inferred.\n",
      "\ttokenized: The attribute value is obtained through tokenization.\n",
      "\thas-dict: The attribute is attached to a string dictionary e.g. a categorical attribute stored as a string.\n",
      "\tvocab-size: Number of unique values.\n",
      "\n",
      "I0000 00:00:1754386188.206895   55965 kernel.cc:818] Configure learner\n",
      "I0000 00:00:1754386188.207085   55965 kernel.cc:831] Training config:\n",
      "learner: \"RANDOM_FOREST\"\n",
      "features: \"^Age$\"\n",
      "features: \"^Cabin_num$\"\n",
      "features: \"^CryoSleep$\"\n",
      "features: \"^Deck$\"\n",
      "features: \"^Destination$\"\n",
      "features: \"^Expenses$\"\n",
      "features: \"^HomePlanet$\"\n",
      "features: \"^LuxuryExpenses$\"\n",
      "features: \"^ShoppingMall$\"\n",
      "features: \"^Side$\"\n",
      "features: \"^VIP$\"\n",
      "label: \"^__LABEL$\"\n",
      "task: CLASSIFICATION\n",
      "random_seed: 123456\n",
      "metadata {\n",
      "  framework: \"TF Keras\"\n",
      "}\n",
      "pure_serving_model: false\n",
      "[yggdrasil_decision_forests.model.random_forest.proto.random_forest_config] {\n",
      "  num_trees: 300\n",
      "  decision_tree {\n",
      "    max_depth: 16\n",
      "    min_examples: 5\n",
      "    in_split_min_examples_check: true\n",
      "    keep_non_leaf_label_distribution: true\n",
      "    num_candidate_attributes: 0\n",
      "    missing_value_policy: GLOBAL_IMPUTATION\n",
      "    allow_na_conditions: false\n",
      "    categorical_set_greedy_forward {\n",
      "      sampling: 0.1\n",
      "      max_num_items: -1\n",
      "      min_item_frequency: 1\n",
      "    }\n",
      "    growing_strategy_local {\n",
      "    }\n",
      "    categorical {\n",
      "      cart {\n",
      "      }\n",
      "    }\n",
      "    axis_aligned_split {\n",
      "    }\n",
      "    internal {\n",
      "      sorting_strategy: PRESORTED\n",
      "    }\n",
      "    uplift {\n",
      "      min_examples_in_treatment: 5\n",
      "      split_score: KULLBACK_LEIBLER\n",
      "    }\n",
      "    numerical_vector_sequence {\n",
      "      max_num_test_examples: 1000\n",
      "      num_random_selected_anchors: 100\n",
      "    }\n",
      "  }\n",
      "  winner_take_all_inference: true\n",
      "  compute_oob_performances: true\n",
      "  compute_oob_variable_importances: false\n",
      "  num_oob_variable_importances_permutations: 1\n",
      "  bootstrap_training_dataset: true\n",
      "  bootstrap_size_ratio: 1\n",
      "  adapt_bootstrap_size_ratio_for_maximum_training_duration: false\n",
      "  sampling_with_replacement: true\n",
      "}\n",
      "\n",
      "I0000 00:00:1754386188.207397   55965 kernel.cc:834] Deployment config:\n",
      "cache_path: \"/tmp/tmpdll6wg53/working_cache\"\n",
      "num_threads: 8\n",
      "try_resume_training: true\n",
      "\n",
      "I0000 00:00:1754386188.207565   56496 kernel.cc:895] Train model\n",
      "I0000 00:00:1754386188.207781   56496 random_forest.cc:438] Training random forest on 7823 example(s) and 11 feature(s).\n",
      "I0000 00:00:1754386188.212119   56496 gpu.cc:93] Cannot initialize GPU: Not compiled with GPU support\n",
      "I0000 00:00:1754386188.647839   56511 random_forest.cc:865] Train tree 1/300 accuracy:0.751228 logloss:8.96665 [index:2 total:0.44s tree:0.44s]\n",
      "I0000 00:00:1754386189.253814   56509 random_forest.cc:865] Train tree 11/300 accuracy:0.768069 logloss:3.27507 [index:9 total:1.04s tree:0.58s]\n",
      "I0000 00:00:1754386189.895397   56505 random_forest.cc:865] Train tree 21/300 accuracy:0.784326 logloss:1.76124 [index:19 total:1.68s tree:0.64s]\n",
      "I0000 00:00:1754386190.486315   56511 random_forest.cc:865] Train tree 31/300 accuracy:0.789467 logloss:1.34883 [index:32 total:2.27s tree:0.44s]\n",
      "I0000 00:00:1754386191.151617   56505 random_forest.cc:865] Train tree 41/300 accuracy:0.791129 logloss:1.07476 [index:40 total:2.94s tree:0.64s]\n",
      "I0000 00:00:1754386191.828412   56510 random_forest.cc:865] Train tree 51/300 accuracy:0.794708 logloss:0.956031 [index:50 total:3.62s tree:0.55s]\n",
      "I0000 00:00:1754386192.564035   56511 random_forest.cc:865] Train tree 61/300 accuracy:0.795858 logloss:0.87364 [index:60 total:4.35s tree:0.55s]\n",
      "I0000 00:00:1754386193.210716   56509 random_forest.cc:865] Train tree 71/300 accuracy:0.796498 logloss:0.835931 [index:71 total:5.00s tree:0.52s]\n",
      "I0000 00:00:1754386193.870025   56507 random_forest.cc:865] Train tree 81/300 accuracy:0.793174 logloss:0.80675 [index:79 total:5.66s tree:0.61s]\n",
      "I0000 00:00:1754386194.636893   56510 random_forest.cc:865] Train tree 91/300 accuracy:0.794197 logloss:0.755728 [index:90 total:6.42s tree:0.52s]\n",
      "I0000 00:00:1754386195.352760   56511 random_forest.cc:865] Train tree 101/300 accuracy:0.794069 logloss:0.730918 [index:99 total:7.14s tree:0.61s]\n",
      "I0000 00:00:1754386196.040752   56508 random_forest.cc:865] Train tree 111/300 accuracy:0.795347 logloss:0.72606 [index:109 total:7.83s tree:0.62s]\n",
      "I0000 00:00:1754386196.710395   56506 random_forest.cc:865] Train tree 121/300 accuracy:0.796753 logloss:0.692669 [index:121 total:8.50s tree:0.56s]\n",
      "I0000 00:00:1754386197.338146   56506 random_forest.cc:865] Train tree 131/300 accuracy:0.79637 logloss:0.679452 [index:128 total:9.13s tree:0.63s]\n",
      "I0000 00:00:1754386198.143277   56511 random_forest.cc:865] Train tree 141/300 accuracy:0.797264 logloss:0.658495 [index:140 total:9.93s tree:0.56s]\n",
      "I0000 00:00:1754386198.881564   56507 random_forest.cc:865] Train tree 151/300 accuracy:0.796498 logloss:0.641517 [index:150 total:10.67s tree:0.65s]\n",
      "I0000 00:00:1754386199.593782   56508 random_forest.cc:865] Train tree 161/300 accuracy:0.797137 logloss:0.637806 [index:161 total:11.38s tree:0.58s]\n",
      "I0000 00:00:1754386200.256971   56508 random_forest.cc:865] Train tree 171/300 accuracy:0.798671 logloss:0.633197 [index:168 total:12.04s tree:0.66s]\n",
      "I0000 00:00:1754386201.054731   56506 random_forest.cc:865] Train tree 181/300 accuracy:0.798926 logloss:0.620575 [index:181 total:12.84s tree:0.48s]\n",
      "I0000 00:00:1754386201.761482   56505 random_forest.cc:865] Train tree 191/300 accuracy:0.799949 logloss:0.616402 [index:191 total:13.55s tree:0.54s]\n",
      "I0000 00:00:1754386202.770749   56511 random_forest.cc:865] Train tree 201/300 accuracy:0.798926 logloss:0.607762 [index:204 total:14.56s tree:0.50s]\n",
      "I0000 00:00:1754386203.576193   56508 random_forest.cc:865] Train tree 211/300 accuracy:0.798798 logloss:0.599162 [index:209 total:15.36s tree:0.73s]\n",
      "I0000 00:00:1754386204.313351   56511 random_forest.cc:865] Train tree 221/300 accuracy:0.79931 logloss:0.586376 [index:219 total:16.10s tree:0.73s]\n",
      "I0000 00:00:1754386205.220158   56508 random_forest.cc:865] Train tree 231/300 accuracy:0.799693 logloss:0.578317 [index:229 total:17.01s tree:0.80s]\n",
      "I0000 00:00:1754386206.074047   56511 random_forest.cc:865] Train tree 241/300 accuracy:0.799565 logloss:0.570504 [index:236 total:17.86s tree:1.13s]\n",
      "I0000 00:00:1754386206.924673   56511 random_forest.cc:865] Train tree 251/300 accuracy:0.79931 logloss:0.570667 [index:248 total:18.71s tree:0.85s]\n",
      "I0000 00:00:1754386207.659152   56506 random_forest.cc:865] Train tree 261/300 accuracy:0.799182 logloss:0.562318 [index:260 total:19.45s tree:0.58s]\n",
      "I0000 00:00:1754386208.755428   56507 random_forest.cc:865] Train tree 271/300 accuracy:0.798671 logloss:0.557702 [index:270 total:20.54s tree:0.67s]\n",
      "I0000 00:00:1754386209.539769   56508 random_forest.cc:865] Train tree 281/300 accuracy:0.79931 logloss:0.557857 [index:280 total:21.33s tree:0.71s]\n",
      "I0000 00:00:1754386210.558106   56505 random_forest.cc:865] Train tree 291/300 accuracy:0.798926 logloss:0.545779 [index:290 total:22.35s tree:0.91s]\n",
      "I0000 00:00:1754386211.127569   56511 random_forest.cc:865] Train tree 300/300 accuracy:0.799438 logloss:0.542316 [index:299 total:22.92s tree:0.48s]\n",
      "I0000 00:00:1754386211.127681   56496 random_forest.cc:949] Final OOB metrics: accuracy:0.799438 logloss:0.542316\n",
      "I0000 00:00:1754386211.232561   56496 kernel.cc:926] Export model in log directory: /tmp/tmpdll6wg53 with prefix 26eb8f1c9fed4b5d\n",
      "I0000 00:00:1754386211.390785   56496 kernel.cc:944] Save model in resources\n",
      "I0000 00:00:1754386211.392278   55965 abstract_model.cc:921] Model self evaluation:\n",
      "Number of predictions (without weights): 7823\n",
      "Number of predictions (with weights): 7823\n",
      "Task: CLASSIFICATION\n",
      "Label: __LABEL\n",
      "\n",
      "Accuracy: 0.799438  CI95[W][0.791845 0.806865]\n",
      "LogLoss: : 0.542316\n",
      "ErrorRate: : 0.200562\n",
      "\n",
      "Default Accuracy: : 0.501214\n",
      "Default LogLoss: : 0.693144\n",
      "Default ErrorRate: : 0.498786\n",
      "\n",
      "Confusion Table:\n",
      "truth\\prediction\n",
      "      1     2\n",
      "1  3146   756\n",
      "2   813  3108\n",
      "Total: 7823\n",
      "\n",
      "\n",
      "2025-08-05 11:30:11.484034: I tensorflow_decision_forests/tensorflow/ops/inference/kernel.cc:1206] Loading model from path /tmp/tmpdll6wg53/model/ with prefix 26eb8f1c9fed4b5d\n"
     ]
    },
    {
     "name": "stdout",
     "output_type": "stream",
     "text": [
      "Model trained in 0:00:23.964039\n",
      "Compiling model...\n"
     ]
    },
    {
     "name": "stderr",
     "output_type": "stream",
     "text": [
      "WARNING: All log messages before absl::InitializeLog() is called are written to STDERR\n",
      "I0000 00:00:1754386212.053395   55965 decision_forest.cc:808] Model loaded with 300 root(s), 246380 node(s), and 11 input feature(s).\n",
      "I0000 00:00:1754386212.056585   55965 abstract_model.cc:1439] Engine \"RandomForestGeneric\" built\n",
      "2025-08-05 11:30:12.056623: I tensorflow_decision_forests/tensorflow/ops/inference/kernel.cc:1035] Use fast generic engine\n"
     ]
    },
    {
     "name": "stdout",
     "output_type": "stream",
     "text": [
      "Model compiled.\n"
     ]
    },
    {
     "data": {
      "text/plain": [
       "<tf_keras.src.callbacks.History at 0x700a9f6ea390>"
      ]
     },
     "execution_count": 28,
     "metadata": {},
     "output_type": "execute_result"
    }
   ],
   "source": [
    "rf.fit(x=train_data_tf)"
   ]
  },
  {
   "cell_type": "code",
   "execution_count": 32,
   "id": "a7801c68",
   "metadata": {},
   "outputs": [
    {
     "data": {
      "image/png": "[encoded data removed]",
      "text/plain": [
       "<Figure size 640x480 with 1 Axes>"
      ]
     },
     "metadata": {},
     "output_type": "display_data"
    }
   ],
   "source": [
    "logs = rf.make_inspector().training_logs()\n",
    "plt.plot([log.num_trees for log in logs], [log.evaluation.accuracy for log in logs])\n",
    "plt.xlabel(\"Number of trees\")\n",
    "plt.ylabel(\"Accuracy on validation set\")\n",
    "plt.show()"
   ]
  },
  {
   "cell_type": "code",
   "execution_count": 33,
   "id": "ddedb09f",
   "metadata": {},
   "outputs": [
    {
     "data": {
      "text/plain": [
       "Evaluation(num_examples=7823, accuracy=0.799437555924837, loss=0.5423157228781099, rmse=None, ndcg=None, aucs=None, auuc=None, qini=None)"
      ]
     },
     "execution_count": 33,
     "metadata": {},
     "output_type": "execute_result"
    }
   ],
   "source": [
    "inspector = rf.make_inspector()\n",
    "inspector.evaluation()"
   ]
  },
  {
   "cell_type": "code",
   "execution_count": 41,
   "id": "e0443545",
   "metadata": {},
   "outputs": [
    {
     "name": "stdout",
     "output_type": "stream",
     "text": [
      "1/1 [==============================] - 0s 151ms/step - loss: 0.0000e+00 - accuracy: 0.8069\n",
      "loss: 0.0000\n",
      "accuracy: 0.8069\n"
     ]
    }
   ],
   "source": [
    "evaluation = rf.evaluate(x=valid_data_tf, return_dict=True)\n",
    "\n",
    "for name, value in evaluation.items():\n",
    "  print(f\"{name}: {value:.4f}\")"
   ]
  },
  {
   "cell_type": "code",
   "execution_count": 39,
   "id": "34112732",
   "metadata": {},
   "outputs": [
    {
     "name": "stdout",
     "output_type": "stream",
     "text": [
      "Available variable importances:\n",
      "\t INV_MEAN_MIN_DEPTH\n",
      "\t NUM_AS_ROOT\n",
      "\t SUM_SCORE\n",
      "\t NUM_NODES\n"
     ]
    }
   ],
   "source": [
    "print(f\"Available variable importances:\")\n",
    "for importance in inspector.variable_importances().keys():\n",
    "  print(\"\\t\", importance)"
   ]
  },
  {
   "cell_type": "code",
   "execution_count": 40,
   "id": "c661864e",
   "metadata": {},
   "outputs": [
    {
     "data": {
      "text/plain": [
       "[(\"LuxuryExpenses\" (1; #7), 138.0),\n",
       " (\"CryoSleep\" (1; #2), 87.0),\n",
       " (\"Expenses\" (1; #5), 45.0),\n",
       " (\"ShoppingMall\" (1; #8), 22.0),\n",
       " (\"Deck\" (4; #3), 3.0),\n",
       " (\"HomePlanet\" (4; #6), 3.0),\n",
       " (\"Age\" (1; #0), 2.0)]"
      ]
     },
     "execution_count": 40,
     "metadata": {},
     "output_type": "execute_result"
    }
   ],
   "source": [
    "inspector.variable_importances()[\"NUM_AS_ROOT\"]\n"
   ]
  },
  {
   "cell_type": "code",
   "execution_count": null,
   "id": "a8fb3f7a",
   "metadata": {},
   "outputs": [],
   "source": []
  }
 ],
 "metadata": {
  "kernelspec": {
   "display_name": ".venv",
   "language": "python",
   "name": "python3"
  },
  "language_info": {
   "codemirror_mode": {
    "name": "ipython",
    "version": 3
   },
   "file_extension": ".py",
   "mimetype": "text/x-python",
   "name": "python",
   "nbconvert_exporter": "python",
   "pygments_lexer": "ipython3",
   "version": "3.12.3"
  }
 },
 "nbformat": 4,
 "nbformat_minor": 5
}
